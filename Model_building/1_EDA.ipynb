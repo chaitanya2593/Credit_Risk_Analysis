{
 "cells": [
  {
   "cell_type": "markdown",
   "id": "cbe5d3f0-f4d9-4c70-b67d-e210165d0c4b",
   "metadata": {},
   "source": [
    "# 1. Exploratory Data Analysis on Credit Risk Data\n",
    "-------------------\n",
    "FSDS Machine Learning Workshop , October 15, 2022\n",
    "\n",
    "> <i>Description: Dataset will be cleaned and EDA performed to get more insights on the data.</i>\n",
    "\n",
    "\n",
    "### Pre requisites: \n",
    "1. Make sure the user has all the data science packages installed.\n",
    "2. `pip install pandas-profiling`\n",
    "\n",
    "Input Files:\n",
    "- credit_risk_data.csv  \n",
    "\n",
    "Output File: \n",
    "- cleaned_dataset.csv\n",
    "\n"
   ]
  },
  {
   "cell_type": "markdown",
   "id": "56918bfa",
   "metadata": {},
   "source": [
    "## 1. Import Required Packages "
   ]
  },
  {
   "cell_type": "code",
   "execution_count": 1,
   "id": "96f073a3-27d1-40c8-b22e-6d7b35f151aa",
   "metadata": {},
   "outputs": [],
   "source": [
    "import pandas as pd\n",
    "import numpy as np\n",
    "import seaborn as sns\n",
    "import matplotlib.pyplot as plt\n",
    "\n",
    "import warnings\n",
    "warnings.filterwarnings('ignore')"
   ]
  },
  {
   "cell_type": "code",
   "execution_count": 2,
   "id": "8440ad3a-c407-40e1-a00a-5960a2c0104f",
   "metadata": {},
   "outputs": [],
   "source": [
    "# import the dataset and store it as the variable 'df'\n",
    "df = pd.read_csv('credit_risk_data.csv') "
   ]
  },
  {
   "cell_type": "markdown",
   "id": "34b43f86",
   "metadata": {},
   "source": [
    "## 2. Data Cleaning"
   ]
  },
  {
   "cell_type": "markdown",
   "id": "01d9a844-87e9-4b03-b3bc-76da1fd3b05e",
   "metadata": {},
   "source": [
    "- `.head()` returns the first n (here 10) rows of the imported dataframe. It is useful for quickly inspecting the df and what kind of data it contains."
   ]
  },
  {
   "cell_type": "code",
   "execution_count": 3,
   "id": "a1f13de4-b07a-4e2e-9b44-56084b2a6a31",
   "metadata": {},
   "outputs": [
    {
     "data": {
      "text/html": [
       "<div>\n",
       "<style scoped>\n",
       "    .dataframe tbody tr th:only-of-type {\n",
       "        vertical-align: middle;\n",
       "    }\n",
       "\n",
       "    .dataframe tbody tr th {\n",
       "        vertical-align: top;\n",
       "    }\n",
       "\n",
       "    .dataframe thead th {\n",
       "        text-align: right;\n",
       "    }\n",
       "</style>\n",
       "<table border=\"1\" class=\"dataframe\">\n",
       "  <thead>\n",
       "    <tr style=\"text-align: right;\">\n",
       "      <th></th>\n",
       "      <th>loan_percent_income</th>\n",
       "      <th>loan_grade</th>\n",
       "      <th>person_income</th>\n",
       "      <th>person_home_ownership</th>\n",
       "      <th>loan_int_rate</th>\n",
       "      <th>loan_status</th>\n",
       "    </tr>\n",
       "  </thead>\n",
       "  <tbody>\n",
       "    <tr>\n",
       "      <th>0</th>\n",
       "      <td>0.59</td>\n",
       "      <td>D</td>\n",
       "      <td>59000</td>\n",
       "      <td>RENT</td>\n",
       "      <td>16.02</td>\n",
       "      <td>1</td>\n",
       "    </tr>\n",
       "    <tr>\n",
       "      <th>1</th>\n",
       "      <td>0.10</td>\n",
       "      <td>B</td>\n",
       "      <td>9600</td>\n",
       "      <td>OWN</td>\n",
       "      <td>11.14</td>\n",
       "      <td>0</td>\n",
       "    </tr>\n",
       "    <tr>\n",
       "      <th>2</th>\n",
       "      <td>0.57</td>\n",
       "      <td>C</td>\n",
       "      <td>9600</td>\n",
       "      <td>MORTGAGE</td>\n",
       "      <td>12.87</td>\n",
       "      <td>1</td>\n",
       "    </tr>\n",
       "    <tr>\n",
       "      <th>3</th>\n",
       "      <td>0.53</td>\n",
       "      <td>C</td>\n",
       "      <td>65500</td>\n",
       "      <td>RENT</td>\n",
       "      <td>15.23</td>\n",
       "      <td>1</td>\n",
       "    </tr>\n",
       "    <tr>\n",
       "      <th>4</th>\n",
       "      <td>0.55</td>\n",
       "      <td>C</td>\n",
       "      <td>54400</td>\n",
       "      <td>RENT</td>\n",
       "      <td>14.27</td>\n",
       "      <td>1</td>\n",
       "    </tr>\n",
       "    <tr>\n",
       "      <th>5</th>\n",
       "      <td>0.25</td>\n",
       "      <td>A</td>\n",
       "      <td>9900</td>\n",
       "      <td>OWN</td>\n",
       "      <td>7.14</td>\n",
       "      <td>1</td>\n",
       "    </tr>\n",
       "    <tr>\n",
       "      <th>6</th>\n",
       "      <td>0.45</td>\n",
       "      <td>B</td>\n",
       "      <td>77100</td>\n",
       "      <td>RENT</td>\n",
       "      <td>12.42</td>\n",
       "      <td>1</td>\n",
       "    </tr>\n",
       "    <tr>\n",
       "      <th>7</th>\n",
       "      <td>0.44</td>\n",
       "      <td>B</td>\n",
       "      <td>78956</td>\n",
       "      <td>RENT</td>\n",
       "      <td>11.11</td>\n",
       "      <td>1</td>\n",
       "    </tr>\n",
       "    <tr>\n",
       "      <th>8</th>\n",
       "      <td>0.42</td>\n",
       "      <td>A</td>\n",
       "      <td>83000</td>\n",
       "      <td>RENT</td>\n",
       "      <td>8.90</td>\n",
       "      <td>1</td>\n",
       "    </tr>\n",
       "    <tr>\n",
       "      <th>9</th>\n",
       "      <td>0.16</td>\n",
       "      <td>D</td>\n",
       "      <td>10000</td>\n",
       "      <td>OWN</td>\n",
       "      <td>14.74</td>\n",
       "      <td>1</td>\n",
       "    </tr>\n",
       "  </tbody>\n",
       "</table>\n",
       "</div>"
      ],
      "text/plain": [
       "   loan_percent_income loan_grade  person_income person_home_ownership  \\\n",
       "0                 0.59          D          59000                  RENT   \n",
       "1                 0.10          B           9600                   OWN   \n",
       "2                 0.57          C           9600              MORTGAGE   \n",
       "3                 0.53          C          65500                  RENT   \n",
       "4                 0.55          C          54400                  RENT   \n",
       "5                 0.25          A           9900                   OWN   \n",
       "6                 0.45          B          77100                  RENT   \n",
       "7                 0.44          B          78956                  RENT   \n",
       "8                 0.42          A          83000                  RENT   \n",
       "9                 0.16          D          10000                   OWN   \n",
       "\n",
       "   loan_int_rate  loan_status  \n",
       "0          16.02            1  \n",
       "1          11.14            0  \n",
       "2          12.87            1  \n",
       "3          15.23            1  \n",
       "4          14.27            1  \n",
       "5           7.14            1  \n",
       "6          12.42            1  \n",
       "7          11.11            1  \n",
       "8           8.90            1  \n",
       "9          14.74            1  "
      ]
     },
     "execution_count": 3,
     "metadata": {},
     "output_type": "execute_result"
    }
   ],
   "source": [
    "df.head(10)"
   ]
  },
  {
   "cell_type": "markdown",
   "id": "078cec5b-6991-402f-b4b4-cf6ee5b76728",
   "metadata": {},
   "source": [
    "- `.info()` prints information about a df (shape) and its columns (type of column, count of non-null values) and memory usage."
   ]
  },
  {
   "cell_type": "code",
   "execution_count": 4,
   "id": "f779b079-af81-4229-aa0a-33a56d03ab37",
   "metadata": {},
   "outputs": [
    {
     "name": "stdout",
     "output_type": "stream",
     "text": [
      "<class 'pandas.core.frame.DataFrame'>\n",
      "RangeIndex: 32581 entries, 0 to 32580\n",
      "Data columns (total 6 columns):\n",
      " #   Column                 Non-Null Count  Dtype  \n",
      "---  ------                 --------------  -----  \n",
      " 0   loan_percent_income    32581 non-null  float64\n",
      " 1   loan_grade             32581 non-null  object \n",
      " 2   person_income          32581 non-null  int64  \n",
      " 3   person_home_ownership  32581 non-null  object \n",
      " 4   loan_int_rate          29465 non-null  float64\n",
      " 5   loan_status            32581 non-null  int64  \n",
      "dtypes: float64(2), int64(2), object(2)\n",
      "memory usage: 1.5+ MB\n"
     ]
    }
   ],
   "source": [
    "df.info()"
   ]
  },
  {
   "cell_type": "markdown",
   "id": "f3dfd2a4-2efe-4224-ad00-cf6ef20b6624",
   "metadata": {},
   "source": [
    "- `.describe()` returns descriptive statistics for all the numeric columns in the df. "
   ]
  },
  {
   "cell_type": "code",
   "execution_count": 5,
   "id": "6ad046ee-b6b2-4a1b-b1a2-d43e0a1afc22",
   "metadata": {},
   "outputs": [
    {
     "data": {
      "text/html": [
       "<div>\n",
       "<style scoped>\n",
       "    .dataframe tbody tr th:only-of-type {\n",
       "        vertical-align: middle;\n",
       "    }\n",
       "\n",
       "    .dataframe tbody tr th {\n",
       "        vertical-align: top;\n",
       "    }\n",
       "\n",
       "    .dataframe thead th {\n",
       "        text-align: right;\n",
       "    }\n",
       "</style>\n",
       "<table border=\"1\" class=\"dataframe\">\n",
       "  <thead>\n",
       "    <tr style=\"text-align: right;\">\n",
       "      <th></th>\n",
       "      <th>loan_percent_income</th>\n",
       "      <th>person_income</th>\n",
       "      <th>loan_int_rate</th>\n",
       "      <th>loan_status</th>\n",
       "    </tr>\n",
       "  </thead>\n",
       "  <tbody>\n",
       "    <tr>\n",
       "      <th>count</th>\n",
       "      <td>32581.000000</td>\n",
       "      <td>3.258100e+04</td>\n",
       "      <td>29465.000000</td>\n",
       "      <td>32581.000000</td>\n",
       "    </tr>\n",
       "    <tr>\n",
       "      <th>mean</th>\n",
       "      <td>0.170203</td>\n",
       "      <td>6.607485e+04</td>\n",
       "      <td>11.011695</td>\n",
       "      <td>0.218164</td>\n",
       "    </tr>\n",
       "    <tr>\n",
       "      <th>std</th>\n",
       "      <td>0.106782</td>\n",
       "      <td>6.198312e+04</td>\n",
       "      <td>3.240459</td>\n",
       "      <td>0.413006</td>\n",
       "    </tr>\n",
       "    <tr>\n",
       "      <th>min</th>\n",
       "      <td>0.000000</td>\n",
       "      <td>4.000000e+03</td>\n",
       "      <td>5.420000</td>\n",
       "      <td>0.000000</td>\n",
       "    </tr>\n",
       "    <tr>\n",
       "      <th>25%</th>\n",
       "      <td>0.090000</td>\n",
       "      <td>3.850000e+04</td>\n",
       "      <td>7.900000</td>\n",
       "      <td>0.000000</td>\n",
       "    </tr>\n",
       "    <tr>\n",
       "      <th>50%</th>\n",
       "      <td>0.150000</td>\n",
       "      <td>5.500000e+04</td>\n",
       "      <td>10.990000</td>\n",
       "      <td>0.000000</td>\n",
       "    </tr>\n",
       "    <tr>\n",
       "      <th>75%</th>\n",
       "      <td>0.230000</td>\n",
       "      <td>7.920000e+04</td>\n",
       "      <td>13.470000</td>\n",
       "      <td>0.000000</td>\n",
       "    </tr>\n",
       "    <tr>\n",
       "      <th>max</th>\n",
       "      <td>0.830000</td>\n",
       "      <td>6.000000e+06</td>\n",
       "      <td>23.220000</td>\n",
       "      <td>1.000000</td>\n",
       "    </tr>\n",
       "  </tbody>\n",
       "</table>\n",
       "</div>"
      ],
      "text/plain": [
       "       loan_percent_income  person_income  loan_int_rate   loan_status\n",
       "count         32581.000000   3.258100e+04   29465.000000  32581.000000\n",
       "mean              0.170203   6.607485e+04      11.011695      0.218164\n",
       "std               0.106782   6.198312e+04       3.240459      0.413006\n",
       "min               0.000000   4.000000e+03       5.420000      0.000000\n",
       "25%               0.090000   3.850000e+04       7.900000      0.000000\n",
       "50%               0.150000   5.500000e+04      10.990000      0.000000\n",
       "75%               0.230000   7.920000e+04      13.470000      0.000000\n",
       "max               0.830000   6.000000e+06      23.220000      1.000000"
      ]
     },
     "execution_count": 5,
     "metadata": {},
     "output_type": "execute_result"
    }
   ],
   "source": [
    "df.describe()"
   ]
  },
  {
   "cell_type": "markdown",
   "id": "b06153e0-4e06-46d8-805b-c6529d371ee8",
   "metadata": {},
   "source": [
    "- `include='object'` parameter is used to show the decriptive statistic for object columns. "
   ]
  },
  {
   "cell_type": "code",
   "execution_count": 6,
   "id": "b08b299e-cb19-42a0-a13a-ea264783a58d",
   "metadata": {},
   "outputs": [
    {
     "data": {
      "text/html": [
       "<div>\n",
       "<style scoped>\n",
       "    .dataframe tbody tr th:only-of-type {\n",
       "        vertical-align: middle;\n",
       "    }\n",
       "\n",
       "    .dataframe tbody tr th {\n",
       "        vertical-align: top;\n",
       "    }\n",
       "\n",
       "    .dataframe thead th {\n",
       "        text-align: right;\n",
       "    }\n",
       "</style>\n",
       "<table border=\"1\" class=\"dataframe\">\n",
       "  <thead>\n",
       "    <tr style=\"text-align: right;\">\n",
       "      <th></th>\n",
       "      <th>loan_grade</th>\n",
       "      <th>person_home_ownership</th>\n",
       "    </tr>\n",
       "  </thead>\n",
       "  <tbody>\n",
       "    <tr>\n",
       "      <th>count</th>\n",
       "      <td>32581</td>\n",
       "      <td>32581</td>\n",
       "    </tr>\n",
       "    <tr>\n",
       "      <th>unique</th>\n",
       "      <td>7</td>\n",
       "      <td>4</td>\n",
       "    </tr>\n",
       "    <tr>\n",
       "      <th>top</th>\n",
       "      <td>A</td>\n",
       "      <td>RENT</td>\n",
       "    </tr>\n",
       "    <tr>\n",
       "      <th>freq</th>\n",
       "      <td>10777</td>\n",
       "      <td>16446</td>\n",
       "    </tr>\n",
       "  </tbody>\n",
       "</table>\n",
       "</div>"
      ],
      "text/plain": [
       "       loan_grade person_home_ownership\n",
       "count       32581                 32581\n",
       "unique          7                     4\n",
       "top             A                  RENT\n",
       "freq        10777                 16446"
      ]
     },
     "execution_count": 6,
     "metadata": {},
     "output_type": "execute_result"
    }
   ],
   "source": [
    "df.describe(include='object')"
   ]
  },
  {
   "cell_type": "markdown",
   "id": "e181fc42",
   "metadata": {},
   "source": [
    "### 2.1 Drop Duplciates"
   ]
  },
  {
   "cell_type": "markdown",
   "id": "9c6d0586",
   "metadata": {},
   "source": [
    "- `.duplicated()` will identify the duplicated records in a df."
   ]
  },
  {
   "cell_type": "code",
   "execution_count": 3,
   "id": "5d1cec92",
   "metadata": {},
   "outputs": [
    {
     "data": {
      "text/html": [
       "<div>\n",
       "<style scoped>\n",
       "    .dataframe tbody tr th:only-of-type {\n",
       "        vertical-align: middle;\n",
       "    }\n",
       "\n",
       "    .dataframe tbody tr th {\n",
       "        vertical-align: top;\n",
       "    }\n",
       "\n",
       "    .dataframe thead th {\n",
       "        text-align: right;\n",
       "    }\n",
       "</style>\n",
       "<table border=\"1\" class=\"dataframe\">\n",
       "  <thead>\n",
       "    <tr style=\"text-align: right;\">\n",
       "      <th></th>\n",
       "      <th>loan_percent_income</th>\n",
       "      <th>loan_grade</th>\n",
       "      <th>person_income</th>\n",
       "      <th>person_home_ownership</th>\n",
       "      <th>loan_int_rate</th>\n",
       "      <th>loan_status</th>\n",
       "    </tr>\n",
       "  </thead>\n",
       "  <tbody>\n",
       "    <tr>\n",
       "      <th>161</th>\n",
       "      <td>0.42</td>\n",
       "      <td>B</td>\n",
       "      <td>60000</td>\n",
       "      <td>RENT</td>\n",
       "      <td>10.99</td>\n",
       "      <td>1</td>\n",
       "    </tr>\n",
       "    <tr>\n",
       "      <th>171</th>\n",
       "      <td>0.42</td>\n",
       "      <td>B</td>\n",
       "      <td>60000</td>\n",
       "      <td>RENT</td>\n",
       "      <td>10.99</td>\n",
       "      <td>1</td>\n",
       "    </tr>\n",
       "    <tr>\n",
       "      <th>637</th>\n",
       "      <td>0.36</td>\n",
       "      <td>A</td>\n",
       "      <td>55000</td>\n",
       "      <td>RENT</td>\n",
       "      <td>6.91</td>\n",
       "      <td>1</td>\n",
       "    </tr>\n",
       "    <tr>\n",
       "      <th>666</th>\n",
       "      <td>0.33</td>\n",
       "      <td>B</td>\n",
       "      <td>60000</td>\n",
       "      <td>RENT</td>\n",
       "      <td>NaN</td>\n",
       "      <td>1</td>\n",
       "    </tr>\n",
       "    <tr>\n",
       "      <th>712</th>\n",
       "      <td>0.28</td>\n",
       "      <td>D</td>\n",
       "      <td>71004</td>\n",
       "      <td>RENT</td>\n",
       "      <td>14.09</td>\n",
       "      <td>0</td>\n",
       "    </tr>\n",
       "    <tr>\n",
       "      <th>...</th>\n",
       "      <td>...</td>\n",
       "      <td>...</td>\n",
       "      <td>...</td>\n",
       "      <td>...</td>\n",
       "      <td>...</td>\n",
       "      <td>...</td>\n",
       "    </tr>\n",
       "    <tr>\n",
       "      <th>32576</th>\n",
       "      <td>0.11</td>\n",
       "      <td>C</td>\n",
       "      <td>53000</td>\n",
       "      <td>MORTGAGE</td>\n",
       "      <td>13.16</td>\n",
       "      <td>0</td>\n",
       "    </tr>\n",
       "    <tr>\n",
       "      <th>32577</th>\n",
       "      <td>0.15</td>\n",
       "      <td>A</td>\n",
       "      <td>120000</td>\n",
       "      <td>MORTGAGE</td>\n",
       "      <td>7.49</td>\n",
       "      <td>0</td>\n",
       "    </tr>\n",
       "    <tr>\n",
       "      <th>32578</th>\n",
       "      <td>0.46</td>\n",
       "      <td>B</td>\n",
       "      <td>76000</td>\n",
       "      <td>RENT</td>\n",
       "      <td>10.99</td>\n",
       "      <td>1</td>\n",
       "    </tr>\n",
       "    <tr>\n",
       "      <th>32579</th>\n",
       "      <td>0.10</td>\n",
       "      <td>B</td>\n",
       "      <td>150000</td>\n",
       "      <td>MORTGAGE</td>\n",
       "      <td>11.48</td>\n",
       "      <td>0</td>\n",
       "    </tr>\n",
       "    <tr>\n",
       "      <th>32580</th>\n",
       "      <td>0.15</td>\n",
       "      <td>B</td>\n",
       "      <td>42000</td>\n",
       "      <td>RENT</td>\n",
       "      <td>9.99</td>\n",
       "      <td>0</td>\n",
       "    </tr>\n",
       "  </tbody>\n",
       "</table>\n",
       "<p>4067 rows × 6 columns</p>\n",
       "</div>"
      ],
      "text/plain": [
       "       loan_percent_income loan_grade  person_income person_home_ownership  \\\n",
       "161                   0.42          B          60000                  RENT   \n",
       "171                   0.42          B          60000                  RENT   \n",
       "637                   0.36          A          55000                  RENT   \n",
       "666                   0.33          B          60000                  RENT   \n",
       "712                   0.28          D          71004                  RENT   \n",
       "...                    ...        ...            ...                   ...   \n",
       "32576                 0.11          C          53000              MORTGAGE   \n",
       "32577                 0.15          A         120000              MORTGAGE   \n",
       "32578                 0.46          B          76000                  RENT   \n",
       "32579                 0.10          B         150000              MORTGAGE   \n",
       "32580                 0.15          B          42000                  RENT   \n",
       "\n",
       "       loan_int_rate  loan_status  \n",
       "161            10.99            1  \n",
       "171            10.99            1  \n",
       "637             6.91            1  \n",
       "666              NaN            1  \n",
       "712            14.09            0  \n",
       "...              ...          ...  \n",
       "32576          13.16            0  \n",
       "32577           7.49            0  \n",
       "32578          10.99            1  \n",
       "32579          11.48            0  \n",
       "32580           9.99            0  \n",
       "\n",
       "[4067 rows x 6 columns]"
      ]
     },
     "execution_count": 3,
     "metadata": {},
     "output_type": "execute_result"
    }
   ],
   "source": [
    "# Printing the duplcated records in the dataset\n",
    "df[df.duplicated()]"
   ]
  },
  {
   "cell_type": "code",
   "execution_count": 4,
   "id": "a9123a0f",
   "metadata": {},
   "outputs": [],
   "source": [
    "# dropping duplicated rows\n",
    "df = df.drop_duplicates()"
   ]
  },
  {
   "cell_type": "markdown",
   "id": "0ea85dd4",
   "metadata": {},
   "source": [
    "### 2.2 Filling the missing values"
   ]
  },
  {
   "cell_type": "code",
   "execution_count": 5,
   "id": "ae749ae8-96e1-496d-a9e2-0f0c51495aa0",
   "metadata": {},
   "outputs": [
    {
     "data": {
      "text/plain": [
       "loan_percent_income         0\n",
       "loan_grade                  0\n",
       "person_income               0\n",
       "person_home_ownership       0\n",
       "loan_int_rate            2612\n",
       "loan_status                 0\n",
       "dtype: int64"
      ]
     },
     "execution_count": 5,
     "metadata": {},
     "output_type": "execute_result"
    }
   ],
   "source": [
    "# counting empty values for each column \n",
    "df.isnull().sum() "
   ]
  },
  {
   "cell_type": "markdown",
   "id": "04f595fe-4e58-47fa-b380-f461a6038c3d",
   "metadata": {},
   "source": [
    "- `.value_counts()` returns containing counts of unique values.\n",
    "Resulting object will be in descending order so that the first element is the most frequently-occurring element. \n",
    "Excludes NA values by default, `dropna=False` includes the empty values. "
   ]
  },
  {
   "cell_type": "code",
   "execution_count": 10,
   "id": "25983c1d-83c8-4160-97bf-65211f706e4d",
   "metadata": {},
   "outputs": [
    {
     "data": {
      "text/plain": [
       "A    9218\n",
       "B    9116\n",
       "C    5679\n",
       "D    3331\n",
       "E     890\n",
       "F     224\n",
       "G      56\n",
       "Name: loan_grade, dtype: int64"
      ]
     },
     "execution_count": 10,
     "metadata": {},
     "output_type": "execute_result"
    }
   ],
   "source": [
    "df['loan_grade'].value_counts(dropna=False)"
   ]
  },
  {
   "cell_type": "code",
   "execution_count": 11,
   "id": "36e2d803-e297-4f3f-8a18-acd32c1ccd59",
   "metadata": {},
   "outputs": [
    {
     "data": {
      "text/plain": [
       "RENT        14380\n",
       "MORTGAGE    11745\n",
       "OWN          2290\n",
       "OTHER          99\n",
       "Name: person_home_ownership, dtype: int64"
      ]
     },
     "execution_count": 11,
     "metadata": {},
     "output_type": "execute_result"
    }
   ],
   "source": [
    "df['person_home_ownership'].value_counts(dropna=False)"
   ]
  },
  {
   "cell_type": "markdown",
   "id": "4ec0c1e3-8e15-4af7-94e4-3e7946f98c00",
   "metadata": {},
   "source": [
    "- `loan_grade` and `person_home_ownership` are object columns that need to be transformed into numeric values. \n",
    "\n",
    "- Label Encoding refers to converting the labels into a numeric form so as to convert them into the machine-readable form."
   ]
  },
  {
   "cell_type": "code",
   "execution_count": 6,
   "id": "c3f794e2-074e-43c4-9615-dbd9356a5738",
   "metadata": {},
   "outputs": [],
   "source": [
    "df = df.replace(to_replace={'person_home_ownership': {'RENT': 0,\n",
    "                                                      'MORTGAGE': 1,\n",
    "                                                      'OWN': 2,\n",
    "                                                      'OTHER': 3},\n",
    "                            'loan_grade': {'A': 0, 'B': 1, 'C': 2, 'D': 3, 'E': 4, 'F': 5, 'G': 6}})"
   ]
  },
  {
   "cell_type": "code",
   "execution_count": 7,
   "id": "e6b8b6b3-3fd6-46e2-870d-9add38d57fe6",
   "metadata": {},
   "outputs": [
    {
     "data": {
      "text/plain": [
       "0    9218\n",
       "1    9116\n",
       "2    5679\n",
       "3    3331\n",
       "4     890\n",
       "5     224\n",
       "6      56\n",
       "Name: loan_grade, dtype: int64"
      ]
     },
     "execution_count": 7,
     "metadata": {},
     "output_type": "execute_result"
    }
   ],
   "source": [
    "df['loan_grade'].value_counts(dropna=False)"
   ]
  },
  {
   "cell_type": "code",
   "execution_count": 8,
   "id": "638dc8b2-97f7-41ce-b1e3-9fdc8a6a97e7",
   "metadata": {},
   "outputs": [
    {
     "data": {
      "text/plain": [
       "0    14380\n",
       "1    11745\n",
       "2     2290\n",
       "3       99\n",
       "Name: person_home_ownership, dtype: int64"
      ]
     },
     "execution_count": 8,
     "metadata": {},
     "output_type": "execute_result"
    }
   ],
   "source": [
    "df['person_home_ownership'].value_counts(dropna=False)"
   ]
  },
  {
   "cell_type": "code",
   "execution_count": 15,
   "id": "b284b5ea-87a6-4528-b9df-738564639040",
   "metadata": {},
   "outputs": [
    {
     "data": {
      "text/plain": [
       "0    22078\n",
       "1     6436\n",
       "Name: loan_status, dtype: int64"
      ]
     },
     "execution_count": 15,
     "metadata": {},
     "output_type": "execute_result"
    }
   ],
   "source": [
    "df['loan_status'].value_counts(dropna=False) # target variable "
   ]
  },
  {
   "cell_type": "code",
   "execution_count": 9,
   "id": "fada198e",
   "metadata": {},
   "outputs": [
    {
     "data": {
      "text/plain": [
       "11.077177051964604"
      ]
     },
     "execution_count": 9,
     "metadata": {},
     "output_type": "execute_result"
    }
   ],
   "source": [
    "# since there are missing values in the column 'loan_int_rate', we fill them with the average interest rate\n",
    "df['loan_int_rate'].mean()"
   ]
  },
  {
   "cell_type": "code",
   "execution_count": 11,
   "id": "817ecbc4",
   "metadata": {},
   "outputs": [],
   "source": [
    "df['loan_int_rate'] = df['loan_int_rate'].fillna(df['loan_int_rate'].mean())"
   ]
  },
  {
   "cell_type": "markdown",
   "id": "cea1f91a",
   "metadata": {},
   "source": [
    "### 2.3 Plots"
   ]
  },
  {
   "cell_type": "markdown",
   "id": "f7c39a53-61cc-40e4-bb2b-ed6a7705df27",
   "metadata": {},
   "source": [
    "- `sns.distplot()` visualizes the distribution of the data."
   ]
  },
  {
   "cell_type": "code",
   "execution_count": 12,
   "id": "37a31710-5c4b-4f08-9567-de58c8b80abb",
   "metadata": {},
   "outputs": [
    {
     "data": {
      "image/png": "[encoded data removed]",
      "text/plain": [
       "<Figure size 432x288 with 1 Axes>"
      ]
     },
     "metadata": {
      "needs_background": "light"
     },
     "output_type": "display_data"
    },
    {
     "data": {
      "image/png": "[encoded data removed]",
      "text/plain": [
       "<Figure size 432x288 with 1 Axes>"
      ]
     },
     "metadata": {
      "needs_background": "light"
     },
     "output_type": "display_data"
    },
    {
     "data": {
      "image/png": "[encoded data removed]",
      "text/plain": [
       "<Figure size 432x288 with 1 Axes>"
      ]
     },
     "metadata": {
      "needs_background": "light"
     },
     "output_type": "display_data"
    }
   ],
   "source": [
    "list_columns = ['loan_percent_income', 'person_income', 'loan_int_rate']\n",
    "\n",
    "for i in list_columns:\n",
    "    plt.figure()              \n",
    "    sns.distplot(df[i].dropna()) "
   ]
  },
  {
   "cell_type": "markdown",
   "id": "6bb6b085",
   "metadata": {},
   "source": [
    "## 3. Exporting the cleaned dataset"
   ]
  },
  {
   "cell_type": "code",
   "execution_count": 19,
   "id": "5a1bd083",
   "metadata": {},
   "outputs": [],
   "source": [
    "df.to_csv(\"cleaned_dataset.csv\", index=None)"
   ]
  },
  {
   "cell_type": "markdown",
   "id": "88da2b8b",
   "metadata": {},
   "source": [
    "## 4. Pandas profiling "
   ]
  },
  {
   "cell_type": "code",
   "execution_count": 20,
   "id": "6b505e24",
   "metadata": {},
   "outputs": [
    {
     "data": {
      "application/vnd.jupyter.widget-view+json": {
       "model_id": "988816ac5ace48358d5955fcc56ff05b",
       "version_major": 2,
       "version_minor": 0
      },
      "text/plain": [
       "Summarize dataset:   0%|          | 0/19 [00:00<?, ?it/s]"
      ]
     },
     "metadata": {},
     "output_type": "display_data"
    },
    {
     "data": {
      "application/vnd.jupyter.widget-view+json": {
       "model_id": "cc3346933c5e40989836eaef35d6a119",
       "version_major": 2,
       "version_minor": 0
      },
      "text/plain": [
       "Generate report structure:   0%|          | 0/1 [00:00<?, ?it/s]"
      ]
     },
     "metadata": {},
     "output_type": "display_data"
    },
    {
     "data": {
      "application/vnd.jupyter.widget-view+json": {
       "model_id": "35a5abce03844193b3e2e5815ddd5578",
       "version_major": 2,
       "version_minor": 0
      },
      "text/plain": [
       "Render HTML:   0%|          | 0/1 [00:00<?, ?it/s]"
      ]
     },
     "metadata": {},
     "output_type": "display_data"
    },
    {
     "data": {
      "application/vnd.jupyter.widget-view+json": {
       "model_id": "de93c662e6954efea774467b9542757b",
       "version_major": 2,
       "version_minor": 0
      },
      "text/plain": [
       "Export report to file:   0%|          | 0/1 [00:00<?, ?it/s]"
      ]
     },
     "metadata": {},
     "output_type": "display_data"
    }
   ],
   "source": [
    "import pandas_profiling\n",
    "df = pd.read_csv('credit_risk_data.csv') \n",
    "profile = pandas_profiling.ProfileReport(df, title=\"Pandas Profiling Report\")\n",
    "profile.to_file(\"credit_risk_eda_report.html\")"
   ]
  }
 ],
 "metadata": {
  "kernelspec": {
   "display_name": "Python 3 (ipykernel)",
   "language": "python",
   "name": "python3"
  },
  "language_info": {
   "codemirror_mode": {
    "name": "ipython",
    "version": 3
   },
   "file_extension": ".py",
   "mimetype": "text/x-python",
   "name": "python",
   "nbconvert_exporter": "python",
   "pygments_lexer": "ipython3",
   "version": "3.8.8"
  }
 },
 "nbformat": 4,
 "nbformat_minor": 5
}
