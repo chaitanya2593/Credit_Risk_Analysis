{
 "cells": [
  {
   "cell_type": "markdown",
   "id": "2575e4b1",
   "metadata": {},
   "source": [
    "# 2. Model building using cleaned Credit Risk Data\n",
    "-------------------\n",
    "FSDS Machine Learning Workshop , October 16, 2022\n",
    "\n",
    "> <i>Description: Applying the random forest on cleaned data and deploying the model.</i>\n",
    "\n",
    "\n",
    "### Pre requisites: \n",
    "1. Make sure the user has all the data science packages installed.\n",
    "\n",
    "\n",
    "Input Files:\n",
    "- cleaned_dataset.csv\n",
    "\n",
    "Output File: \n",
    "- rf_model.pkl\n",
    "\n",
    "\n"
   ]
  },
  {
   "cell_type": "markdown",
   "id": "df11d87c",
   "metadata": {},
   "source": [
    "## 1. Import Required Packages "
   ]
  },
  {
   "cell_type": "code",
   "execution_count": 1,
   "id": "ecd31ca6",
   "metadata": {},
   "outputs": [],
   "source": [
    "# Import Required Packages \n",
    "import pandas as pd\n",
    "import numpy as np\n",
    "import pandas_profiling\n",
    "import seaborn as sns\n",
    "import matplotlib.pyplot as plt\n",
    "%matplotlib inline\n",
    "import sklearn \n",
    "import pickle\n",
    "import os\n",
    "\n",
    "from sklearn import metrics\n",
    "from sklearn.model_selection import train_test_split"
   ]
  },
  {
   "cell_type": "code",
   "execution_count": 2,
   "id": "93bfd598",
   "metadata": {},
   "outputs": [],
   "source": [
    "# to remove the printing barrier - displays all columns and rows\n",
    "pd.set_option('display.max_columns', None)\n",
    "pd.set_option('display.max_rows', None)"
   ]
  },
  {
   "cell_type": "code",
   "execution_count": 3,
   "id": "67544df1",
   "metadata": {},
   "outputs": [],
   "source": [
    "# TO print multiple outputs in single line\n",
    "from IPython.core.interactiveshell import InteractiveShell\n",
    "InteractiveShell.ast_node_interactivity = \"all\""
   ]
  },
  {
   "cell_type": "markdown",
   "id": "e8edb71c",
   "metadata": {},
   "source": [
    "## 2. Data analysis before model building"
   ]
  },
  {
   "cell_type": "code",
   "execution_count": 4,
   "id": "eb809ee2",
   "metadata": {},
   "outputs": [],
   "source": [
    "df = pd.read_csv(\"cleaned_dataset.csv\")"
   ]
  },
  {
   "cell_type": "code",
   "execution_count": 5,
   "id": "0dcf19ff",
   "metadata": {},
   "outputs": [
    {
     "data": {
      "text/html": [
       "<div>\n",
       "<style scoped>\n",
       "    .dataframe tbody tr th:only-of-type {\n",
       "        vertical-align: middle;\n",
       "    }\n",
       "\n",
       "    .dataframe tbody tr th {\n",
       "        vertical-align: top;\n",
       "    }\n",
       "\n",
       "    .dataframe thead th {\n",
       "        text-align: right;\n",
       "    }\n",
       "</style>\n",
       "<table border=\"1\" class=\"dataframe\">\n",
       "  <thead>\n",
       "    <tr style=\"text-align: right;\">\n",
       "      <th></th>\n",
       "      <th>loan_percent_income</th>\n",
       "      <th>loan_grade</th>\n",
       "      <th>person_income</th>\n",
       "      <th>person_home_ownership</th>\n",
       "      <th>loan_int_rate</th>\n",
       "      <th>loan_status</th>\n",
       "    </tr>\n",
       "  </thead>\n",
       "  <tbody>\n",
       "    <tr>\n",
       "      <th>0</th>\n",
       "      <td>0.59</td>\n",
       "      <td>3</td>\n",
       "      <td>59000</td>\n",
       "      <td>0</td>\n",
       "      <td>16.02</td>\n",
       "      <td>1</td>\n",
       "    </tr>\n",
       "    <tr>\n",
       "      <th>1</th>\n",
       "      <td>0.10</td>\n",
       "      <td>1</td>\n",
       "      <td>9600</td>\n",
       "      <td>2</td>\n",
       "      <td>11.14</td>\n",
       "      <td>0</td>\n",
       "    </tr>\n",
       "    <tr>\n",
       "      <th>2</th>\n",
       "      <td>0.57</td>\n",
       "      <td>2</td>\n",
       "      <td>9600</td>\n",
       "      <td>1</td>\n",
       "      <td>12.87</td>\n",
       "      <td>1</td>\n",
       "    </tr>\n",
       "    <tr>\n",
       "      <th>3</th>\n",
       "      <td>0.53</td>\n",
       "      <td>2</td>\n",
       "      <td>65500</td>\n",
       "      <td>0</td>\n",
       "      <td>15.23</td>\n",
       "      <td>1</td>\n",
       "    </tr>\n",
       "    <tr>\n",
       "      <th>4</th>\n",
       "      <td>0.55</td>\n",
       "      <td>2</td>\n",
       "      <td>54400</td>\n",
       "      <td>0</td>\n",
       "      <td>14.27</td>\n",
       "      <td>1</td>\n",
       "    </tr>\n",
       "  </tbody>\n",
       "</table>\n",
       "</div>"
      ],
      "text/plain": [
       "   loan_percent_income  loan_grade  person_income  person_home_ownership  \\\n",
       "0                 0.59           3          59000                      0   \n",
       "1                 0.10           1           9600                      2   \n",
       "2                 0.57           2           9600                      1   \n",
       "3                 0.53           2          65500                      0   \n",
       "4                 0.55           2          54400                      0   \n",
       "\n",
       "   loan_int_rate  loan_status  \n",
       "0          16.02            1  \n",
       "1          11.14            0  \n",
       "2          12.87            1  \n",
       "3          15.23            1  \n",
       "4          14.27            1  "
      ]
     },
     "execution_count": 5,
     "metadata": {},
     "output_type": "execute_result"
    }
   ],
   "source": [
    "df.head()"
   ]
  },
  {
   "cell_type": "code",
   "execution_count": 6,
   "id": "c8bea7a1",
   "metadata": {},
   "outputs": [
    {
     "name": "stdout",
     "output_type": "stream",
     "text": [
      "<class 'pandas.core.frame.DataFrame'>\n",
      "RangeIndex: 28514 entries, 0 to 28513\n",
      "Data columns (total 6 columns):\n",
      " #   Column                 Non-Null Count  Dtype  \n",
      "---  ------                 --------------  -----  \n",
      " 0   loan_percent_income    28514 non-null  float64\n",
      " 1   loan_grade             28514 non-null  int64  \n",
      " 2   person_income          28514 non-null  int64  \n",
      " 3   person_home_ownership  28514 non-null  int64  \n",
      " 4   loan_int_rate          28514 non-null  float64\n",
      " 5   loan_status            28514 non-null  int64  \n",
      "dtypes: float64(2), int64(4)\n",
      "memory usage: 1.3 MB\n"
     ]
    }
   ],
   "source": [
    "df.info()"
   ]
  },
  {
   "cell_type": "markdown",
   "id": "3a64fe4b-8d4f-44bb-89cd-83f11b1c69df",
   "metadata": {},
   "source": [
    "- `.sample()` is used to return a random sample of rows or columns from the df. "
   ]
  },
  {
   "cell_type": "code",
   "execution_count": 7,
   "id": "57663516",
   "metadata": {},
   "outputs": [
    {
     "data": {
      "text/html": [
       "<div>\n",
       "<style scoped>\n",
       "    .dataframe tbody tr th:only-of-type {\n",
       "        vertical-align: middle;\n",
       "    }\n",
       "\n",
       "    .dataframe tbody tr th {\n",
       "        vertical-align: top;\n",
       "    }\n",
       "\n",
       "    .dataframe thead th {\n",
       "        text-align: right;\n",
       "    }\n",
       "</style>\n",
       "<table border=\"1\" class=\"dataframe\">\n",
       "  <thead>\n",
       "    <tr style=\"text-align: right;\">\n",
       "      <th></th>\n",
       "      <th>loan_percent_income</th>\n",
       "      <th>loan_grade</th>\n",
       "      <th>person_income</th>\n",
       "      <th>person_home_ownership</th>\n",
       "      <th>loan_int_rate</th>\n",
       "      <th>loan_status</th>\n",
       "    </tr>\n",
       "  </thead>\n",
       "  <tbody>\n",
       "    <tr>\n",
       "      <th>1567</th>\n",
       "      <td>0.12</td>\n",
       "      <td>3</td>\n",
       "      <td>27996</td>\n",
       "      <td>1</td>\n",
       "      <td>15.21</td>\n",
       "      <td>1</td>\n",
       "    </tr>\n",
       "    <tr>\n",
       "      <th>18549</th>\n",
       "      <td>0.25</td>\n",
       "      <td>1</td>\n",
       "      <td>39000</td>\n",
       "      <td>0</td>\n",
       "      <td>10.95</td>\n",
       "      <td>0</td>\n",
       "    </tr>\n",
       "    <tr>\n",
       "      <th>13607</th>\n",
       "      <td>0.19</td>\n",
       "      <td>1</td>\n",
       "      <td>96384</td>\n",
       "      <td>1</td>\n",
       "      <td>10.25</td>\n",
       "      <td>0</td>\n",
       "    </tr>\n",
       "    <tr>\n",
       "      <th>14477</th>\n",
       "      <td>0.06</td>\n",
       "      <td>2</td>\n",
       "      <td>112774</td>\n",
       "      <td>1</td>\n",
       "      <td>13.06</td>\n",
       "      <td>0</td>\n",
       "    </tr>\n",
       "    <tr>\n",
       "      <th>9838</th>\n",
       "      <td>0.15</td>\n",
       "      <td>1</td>\n",
       "      <td>65000</td>\n",
       "      <td>1</td>\n",
       "      <td>11.11</td>\n",
       "      <td>0</td>\n",
       "    </tr>\n",
       "  </tbody>\n",
       "</table>\n",
       "</div>"
      ],
      "text/plain": [
       "       loan_percent_income  loan_grade  person_income  person_home_ownership  \\\n",
       "1567                  0.12           3          27996                      1   \n",
       "18549                 0.25           1          39000                      0   \n",
       "13607                 0.19           1          96384                      1   \n",
       "14477                 0.06           2         112774                      1   \n",
       "9838                  0.15           1          65000                      1   \n",
       "\n",
       "       loan_int_rate  loan_status  \n",
       "1567           15.21            1  \n",
       "18549          10.95            0  \n",
       "13607          10.25            0  \n",
       "14477          13.06            0  \n",
       "9838           11.11            0  "
      ]
     },
     "execution_count": 7,
     "metadata": {},
     "output_type": "execute_result"
    }
   ],
   "source": [
    "df.sample(5)"
   ]
  },
  {
   "cell_type": "markdown",
   "id": "093bc8a0",
   "metadata": {},
   "source": [
    "### Loan Status pie chart\n",
    "\n",
    "Refer: https://www.geeksforgeeks.org/how-to-create-a-pie-chart-in-seaborn/ for more information on how to create more elegant pie charts."
   ]
  },
  {
   "cell_type": "code",
   "execution_count": 8,
   "id": "07bab332",
   "metadata": {},
   "outputs": [
    {
     "data": {
      "image/png": "[encoded data removed]",
      "text/plain": [
       "<Figure size 432x288 with 1 Axes>"
      ]
     },
     "metadata": {},
     "output_type": "display_data"
    }
   ],
   "source": [
    "# create pie chart\n",
    "# define Seaborn color palette to use\n",
    "colors = sns.color_palette('pastel')[0:2]\n",
    "labels= df['loan_status'].value_counts().index\n",
    "\n",
    "plt.pie(df['loan_status'].value_counts(),labels = labels, colors=colors,  autopct='%.0f%%')\n",
    "plt.title('Loan Status')\n",
    "plt.show();"
   ]
  },
  {
   "cell_type": "markdown",
   "id": "63621d6a",
   "metadata": {},
   "source": [
    "### Loan interest rate  Disturbution"
   ]
  },
  {
   "cell_type": "code",
   "execution_count": 9,
   "id": "f508cb26",
   "metadata": {},
   "outputs": [
    {
     "data": {
      "image/png": "[encoded data removed]",
      "text/plain": [
       "<Figure size 432x288 with 1 Axes>"
      ]
     },
     "metadata": {
      "needs_background": "light"
     },
     "output_type": "display_data"
    }
   ],
   "source": [
    "fig = sns.histplot(df.loan_int_rate)"
   ]
  },
  {
   "cell_type": "markdown",
   "id": "9ebb4d37",
   "metadata": {},
   "source": [
    "## 3. Model Training"
   ]
  },
  {
   "cell_type": "markdown",
   "id": "01dbfdea",
   "metadata": {},
   "source": [
    "### 3.1 Prepare data for training"
   ]
  },
  {
   "cell_type": "code",
   "execution_count": 10,
   "id": "d5ee4700",
   "metadata": {},
   "outputs": [],
   "source": [
    "# separating features and target variable \n",
    "X = df.drop(['loan_status'], axis=1)\n",
    "y = df['loan_status']    "
   ]
  },
  {
   "cell_type": "markdown",
   "id": "e19c2cad",
   "metadata": {},
   "source": [
    "### 3.2 Train and test split"
   ]
  },
  {
   "cell_type": "markdown",
   "id": "917a8be1-36bc-49eb-a8aa-d41eca524cff",
   "metadata": {},
   "source": [
    "Dividing the dataset into 2 dataframes:\n",
    "1) Train df - 75 % of records\n",
    "2) Train df - 25 % of the records"
   ]
  },
  {
   "cell_type": "code",
   "execution_count": 11,
   "id": "66cc9b69",
   "metadata": {},
   "outputs": [],
   "source": [
    "X_train, X_test, y_train, y_test = train_test_split(X, y, test_size=0.25, random_state=62, stratify=y)"
   ]
  },
  {
   "cell_type": "code",
   "execution_count": 12,
   "id": "36f83327",
   "metadata": {},
   "outputs": [
    {
     "name": "stdout",
     "output_type": "stream",
     "text": [
      "Target Training Data Shape: (21385,)\n",
      "Target Test Data Shape: (7129,)\n",
      "Variables Training Data Shape: (21385, 5)\n",
      "Variable Test Data Shape: (7129, 5)\n"
     ]
    }
   ],
   "source": [
    "# Printing the train and test dataframe dimensions\n",
    "print(\"Target Training Data Shape:\" , y_train.shape)\n",
    "print(\"Target Test Data Shape:\" , y_test.shape)\n",
    "print(\"Variables Training Data Shape:\" , X_train.shape)\n",
    "print(\"Variable Test Data Shape:\" , X_test.shape)"
   ]
  },
  {
   "cell_type": "markdown",
   "id": "6aa085cb",
   "metadata": {},
   "source": [
    "### 3.3 Loading the model"
   ]
  },
  {
   "cell_type": "code",
   "execution_count": 13,
   "id": "a815b090",
   "metadata": {},
   "outputs": [],
   "source": [
    "# initialising the random forest model from sklearn library\n",
    "# ref: https://scikit-learn.org/stable/modules/generated/sklearn.ensemble.RandomForestClassifier.html\n",
    "# if you are curious how to perform hyperparameter tuning: https://towardsdatascience.com/hyperparameter-tuning-the-random-forest-in-python-using-scikit-learn-28d2aa77dd74\n",
    "from sklearn.ensemble import RandomForestClassifier\n",
    "\n",
    "forest = RandomForestClassifier(max_depth = 10, n_estimators = 1000, random_state = 7)"
   ]
  },
  {
   "cell_type": "code",
   "execution_count": 14,
   "id": "7f75902c",
   "metadata": {},
   "outputs": [],
   "source": [
    "# Fitting the model on Train Data\n",
    "rf_model = forest.fit(X_train, y_train)"
   ]
  },
  {
   "cell_type": "code",
   "execution_count": 15,
   "id": "82a1324b",
   "metadata": {},
   "outputs": [],
   "source": [
    "# Making predictions\n",
    "pred = rf_model.predict(X_test)"
   ]
  },
  {
   "cell_type": "markdown",
   "id": "df3c695f",
   "metadata": {},
   "source": [
    "### 3.4 Feature importance \n",
    "Ref: https://towardsdatascience.com/explaining-feature-importance-by-example-of-a-random-forest-d9166011959e"
   ]
  },
  {
   "cell_type": "code",
   "execution_count": 16,
   "id": "fa0415d6",
   "metadata": {},
   "outputs": [],
   "source": [
    "Final_df = pd.DataFrame()"
   ]
  },
  {
   "cell_type": "code",
   "execution_count": 17,
   "id": "b464b881",
   "metadata": {},
   "outputs": [],
   "source": [
    "Final_df['columns'] = X_train.columns\n",
    "Final_df['feature_importance'] = rf_model.feature_importances_"
   ]
  },
  {
   "cell_type": "code",
   "execution_count": 18,
   "id": "6f1e989c",
   "metadata": {},
   "outputs": [
    {
     "data": {
      "text/html": [
       "<div>\n",
       "<style scoped>\n",
       "    .dataframe tbody tr th:only-of-type {\n",
       "        vertical-align: middle;\n",
       "    }\n",
       "\n",
       "    .dataframe tbody tr th {\n",
       "        vertical-align: top;\n",
       "    }\n",
       "\n",
       "    .dataframe thead th {\n",
       "        text-align: right;\n",
       "    }\n",
       "</style>\n",
       "<table border=\"1\" class=\"dataframe\">\n",
       "  <thead>\n",
       "    <tr style=\"text-align: right;\">\n",
       "      <th></th>\n",
       "      <th>columns</th>\n",
       "      <th>feature_importance</th>\n",
       "    </tr>\n",
       "  </thead>\n",
       "  <tbody>\n",
       "    <tr>\n",
       "      <th>0</th>\n",
       "      <td>loan_percent_income</td>\n",
       "      <td>0.337821</td>\n",
       "    </tr>\n",
       "    <tr>\n",
       "      <th>1</th>\n",
       "      <td>loan_grade</td>\n",
       "      <td>0.191308</td>\n",
       "    </tr>\n",
       "    <tr>\n",
       "      <th>3</th>\n",
       "      <td>person_home_ownership</td>\n",
       "      <td>0.176099</td>\n",
       "    </tr>\n",
       "    <tr>\n",
       "      <th>2</th>\n",
       "      <td>person_income</td>\n",
       "      <td>0.174028</td>\n",
       "    </tr>\n",
       "    <tr>\n",
       "      <th>4</th>\n",
       "      <td>loan_int_rate</td>\n",
       "      <td>0.120745</td>\n",
       "    </tr>\n",
       "  </tbody>\n",
       "</table>\n",
       "</div>"
      ],
      "text/plain": [
       "                 columns  feature_importance\n",
       "0    loan_percent_income            0.337821\n",
       "1             loan_grade            0.191308\n",
       "3  person_home_ownership            0.176099\n",
       "2          person_income            0.174028\n",
       "4          loan_int_rate            0.120745"
      ]
     },
     "execution_count": 18,
     "metadata": {},
     "output_type": "execute_result"
    }
   ],
   "source": [
    "Final_df.sort_values('feature_importance', ascending=False)"
   ]
  },
  {
   "cell_type": "markdown",
   "id": "7cfdcbe2",
   "metadata": {},
   "source": [
    "### 3.5 Checking the model quality \n",
    "\n",
    "Ref: https://towardsdatascience.com/metrics-to-evaluate-your-machine-learning-algorithm-f10ba6e38234"
   ]
  },
  {
   "cell_type": "code",
   "execution_count": 19,
   "id": "5ef89ad0",
   "metadata": {},
   "outputs": [],
   "source": [
    "from sklearn.metrics import accuracy_score, precision_score, recall_score, f1_score\n",
    "def generate_model_report(y_actual, y_predicted):\n",
    "    print(\"Accuracy = \" , accuracy_score(y_actual, y_predicted))\n",
    "    print(\"Precision = \" ,precision_score(y_actual, y_predicted))\n",
    "    print(\"Recall = \" ,recall_score(y_actual, y_predicted))\n",
    "    print(\"F1 Score = \" ,f1_score(y_actual, y_predicted))\n",
    "    "
   ]
  },
  {
   "cell_type": "code",
   "execution_count": 20,
   "id": "4b02b4f4",
   "metadata": {},
   "outputs": [
    {
     "name": "stdout",
     "output_type": "stream",
     "text": [
      "Accuracy =  0.892130733623229\n",
      "Precision =  0.8286384976525821\n",
      "Recall =  0.6581727781230577\n",
      "F1 Score =  0.7336335296155178\n"
     ]
    }
   ],
   "source": [
    "# Train Metrics\n",
    "generate_model_report(y_test, pred)"
   ]
  },
  {
   "cell_type": "markdown",
   "id": "bff4a182",
   "metadata": {},
   "source": [
    "## 4. Exporting the Model"
   ]
  },
  {
   "cell_type": "markdown",
   "id": "38eefeae",
   "metadata": {},
   "source": [
    "We save the model as a pickle file. The model can be then used on other machines.\n",
    "- Ref: https://towardsdatascience.com/do-not-use-python-pickle-unless-you-know-all-these-facts-d9e8695b7d43"
   ]
  },
  {
   "cell_type": "code",
   "execution_count": 21,
   "id": "87bf1bd9",
   "metadata": {},
   "outputs": [],
   "source": [
    "with open('rf_model.pkl', 'wb') as f:  # Python 3: open(..., 'wb')\n",
    "    pickle.dump(rf_model, f) "
   ]
  },
  {
   "cell_type": "markdown",
   "id": "1109afd1",
   "metadata": {},
   "source": [
    "## 5. Visualize the Random Forest "
   ]
  },
  {
   "cell_type": "code",
   "execution_count": 37,
   "id": "d71e3094",
   "metadata": {},
   "outputs": [
    {
     "data": {
      "text/plain": [
       "<Figure size 864x864 with 0 Axes>"
      ]
     },
     "execution_count": 37,
     "metadata": {},
     "output_type": "execute_result"
    },
    {
     "data": {
      "image/png": "[encoded data removed]",
      "text/plain": [
       "<Figure size 864x864 with 1 Axes>"
      ]
     },
     "metadata": {
      "needs_background": "light"
     },
     "output_type": "display_data"
    }
   ],
   "source": [
    "from sklearn import tree\n",
    "forest = RandomForestClassifier(max_depth = 3, n_estimators = 10, random_state = 7)\n",
    "rf_model = forest.fit(X_train, y_train)\n",
    "\n",
    "\n",
    "# plot tree\n",
    "plt.figure(figsize=(12,12))  # set plot size (denoted in inches)\n",
    "x = tree.plot_tree(rf_model.estimators_[0], fontsize=10, feature_names= X_train.columns)\n",
    "plt.show()"
   ]
  },
  {
   "cell_type": "code",
   "execution_count": null,
   "id": "da812220",
   "metadata": {},
   "outputs": [],
   "source": []
  }
 ],
 "metadata": {
  "kernelspec": {
   "display_name": "Python 3 (ipykernel)",
   "language": "python",
   "name": "python3"
  },
  "language_info": {
   "codemirror_mode": {
    "name": "ipython",
    "version": 3
   },
   "file_extension": ".py",
   "mimetype": "text/x-python",
   "name": "python",
   "nbconvert_exporter": "python",
   "pygments_lexer": "ipython3",
   "version": "3.8.8"
  }
 },
 "nbformat": 4,
 "nbformat_minor": 5
}
